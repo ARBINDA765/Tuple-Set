{
 "cells": [
  {
   "cell_type": "markdown",
   "metadata": {},
   "source": [
    "# Python Tuples"
   ]
  },
  {
   "cell_type": "raw",
   "metadata": {},
   "source": [
    "> Tuple is a collection of Python objects much like a list.\n",
    "> The sequence of values stored in a tuple can be of any type, indexed by integers.\n",
    "Values of a tuple are syntactically separated by ‘commas'\n",
    ">Note – Creation of Python tuple without the use of parentheses is known as Tuple Packing.\n",
    "> Tuples can contain any number of elements and of any datatype (like strings, integers, list, etc.)\n",
    ">We can make a tuple by having only one element byu trailing ,after that element.\n",
    ">"
   ]
  },
  {
   "cell_type": "code",
   "execution_count": 12,
   "metadata": {},
   "outputs": [
    {
     "name": "stdout",
     "output_type": "stream",
     "text": [
      "*********************************************\n",
      "<class 'tuple'>\n",
      "*********************************************\n",
      "*********************************************\n",
      "<class 'tuple'>\n",
      "*********************************************\n",
      "('ram', 'der', -9.0, 99) <class 'tuple'>\n"
     ]
    }
   ],
   "source": [
    "tuple1=()\n",
    "type(tuple1)\n",
    "tuple2=tuple(\"na\")\n",
    "print(\"*\"*45)\n",
    "print(type(tuple2))\n",
    "print(\"*\"*45)\n",
    "tuple3=(99,)#Sinle element in a tuple is possible\n",
    "print(\"*\"*45)\n",
    "print(type(tuple3))\n",
    "print(\"*\"*45)\n",
    "tuple4=(\"ram\",\"der\",-9.0,99)\n",
    "print(tuple4,type(tuple4))#Heterogenous by nature"
   ]
  },
  {
   "cell_type": "code",
   "execution_count": 24,
   "metadata": {},
   "outputs": [
    {
     "name": "stdout",
     "output_type": "stream",
     "text": [
      "<class 'tuple'>\n"
     ]
    },
    {
     "data": {
      "text/plain": [
       "(10, 1, -9.0)"
      ]
     },
     "execution_count": 24,
     "metadata": {},
     "output_type": "execute_result"
    }
   ],
   "source": [
    "#Accessing of Tuples\n",
    "a=(10, 1, -9.0, 99)\n",
    "print(type(a))\n",
    "a[0:3]#Accesing the tuple by indexing"
   ]
  },
  {
   "cell_type": "code",
   "execution_count": 31,
   "metadata": {},
   "outputs": [
    {
     "name": "stdout",
     "output_type": "stream",
     "text": [
      "\n",
      "First element of Tuple: \n",
      "A\n",
      "*********************************************\n",
      "\n",
      "Values after unpacking: \n",
      "NAVY\n",
      "USA\n",
      "ARMY\n",
      "*********************************************\n",
      "('NAVY', 'USA')\n"
     ]
    }
   ],
   "source": [
    "#Accessing Tuple \n",
    "#with Indexing \n",
    "Tuple1 = tuple(\"IAF\") \n",
    "print(\"\\nFirst element of Tuple: \") \n",
    "print(Tuple1[1]) \n",
    "print(\"*\"*45)\n",
    "  \n",
    "  \n",
    "#Tuple unpacking \n",
    "Tuple1 = (\"NAVY\", \"USA\", \"ARMY\") \n",
    "\n",
    "#NOTE : In unpacking of tuple number of variables on left hand side should be equal to number of values in given tuple a.\n",
    "#This line unpack  \n",
    "#values of Tuple1 \n",
    "a, b, c = Tuple1 \n",
    "print(\"\\nValues after unpacking: \") \n",
    "print(a) \n",
    "print(b) \n",
    "print(c) \n",
    "print(\"*\"*45)\n",
    "Tuple_1 = (\"NAVY\", \"USA\", \"ARMY\") \n",
    "print(Tuple_1[0:2])"
   ]
  },
  {
   "cell_type": "markdown",
   "metadata": {},
   "source": [
    "# Concatenation of Tuples\n"
   ]
  },
  {
   "cell_type": "raw",
   "metadata": {},
   "source": [
    ">Tuple concatenation can be done between two tuples not with list\n",
    "> Both the tuple should be same data type\n",
    "> Tuple can be added by the end of the original tuple \n",
    "> Concatenation is done by the use of ‘+’ operator\n",
    "> Other arithmetic operations do not apply on Tuples.\n",
    ">"
   ]
  },
  {
   "cell_type": "code",
   "execution_count": 38,
   "metadata": {},
   "outputs": [],
   "source": [
    "t1=(10,20,30,40,50,60,70)\n",
    "t2=(3,4,5,6,\"ram\",9.3,\"NAVY\", \"USA\", \"ARMY\") \n",
    "tn=t1+t2"
   ]
  },
  {
   "cell_type": "code",
   "execution_count": 49,
   "metadata": {},
   "outputs": [
    {
     "data": {
      "text/plain": [
       "(20, 30, 40, 50)"
      ]
     },
     "execution_count": 49,
     "metadata": {},
     "output_type": "execute_result"
    }
   ],
   "source": [
    "t1[-6:-2]\n",
    "#Negative index slicing ,mentioned index-1 till that position will fetch\n",
    "#Postive index slicing will fetch till mention index\n",
    "#Starting from always mentioned index "
   ]
  },
  {
   "cell_type": "code",
   "execution_count": 50,
   "metadata": {},
   "outputs": [],
   "source": [
    "del t1# can delete the whole tuple "
   ]
  },
  {
   "cell_type": "markdown",
   "metadata": {},
   "source": [
    "# Python Sets"
   ]
  },
  {
   "cell_type": "raw",
   "metadata": {},
   "source": [
    ">Sets can be created by using the built-in set() function with an iterable object or a sequence by placing the sequence\n",
    "inside curly braces, separated by ‘comma’.\n",
    "\n",
    ">Note – A set cannot have mutable elements like a list, set or dictionary, as its elements.\n",
    ">A set contains only unique elements but at the time of set creation, multiple duplicate values can also be passed. Order of elements in a set is undefined and is unchangeable. "
   ]
  },
  {
   "cell_type": "code",
   "execution_count": 5,
   "metadata": {},
   "outputs": [
    {
     "name": "stdout",
     "output_type": "stream",
     "text": [
      "{1, 2, 3, 'SHYAM', 'RAM'}\n"
     ]
    }
   ],
   "source": [
    "#Mixed data types and duplicates are not allowed\n",
    "s=set([1,1,2,2,3,\"RAM\",\"SHYAM\"])\n",
    "print(s)"
   ]
  },
  {
   "cell_type": "code",
   "execution_count": 14,
   "metadata": {},
   "outputs": [
    {
     "name": "stdout",
     "output_type": "stream",
     "text": [
      "*********************************************\n",
      "{1, 2, 3, 'SHYAM', 'RAM'}\n",
      "*********************************************\n",
      "After adding the elements to the exiting set by loop\n",
      "{1, 2, 3, 'SHYAM', 100, 'PAK', 200, 'IAF', 'RAM', 'ram'}\n",
      "*********************************************\n",
      "Adding the tuple with having multiple elements  to the exiting the SET\n",
      "{1, 2, 3, 'SHYAM', 100, 'PAK', 200, ('MIG21', 'ISRASEL', 99999), 'IAF', 'RAM', 'ram'}\n"
     ]
    }
   ],
   "source": [
    "#Adding Elements to a Set\n",
    "#add() method only accepts set with double (()) \n",
    "s=set([1,1,2,2,3,\"RAM\",\"SHYAM\"])\n",
    "#Duplicates are not allowed\n",
    "s.add(1)\n",
    "print(\"*\"*45)\n",
    "print(s)\n",
    "list1=[100,200,\"IAF\",\"PAK\",\"ram\"]\n",
    "for i in list1:\n",
    "    s.add(i)\n",
    "print(\"*\"*45)\n",
    "print(\"After adding the elements to the exiting set by loop\")\n",
    "print(s)\n",
    "print(\"*\"*45)\n",
    "print(\"Adding the tuple with having multiple elements  to the exiting the SET\")\n",
    "s.add(('MIG21',\"ISRASEL\",99999))\n",
    "print(s)\n",
    "\n",
    "\n",
    "\n"
   ]
  },
  {
   "cell_type": "code",
   "execution_count": 27,
   "metadata": {},
   "outputs": [
    {
     "name": "stdout",
     "output_type": "stream",
     "text": [
      "{0, 1, 2, 3, 'L', 'IAF', 'ram', 99999, 'SHYAM', '2', 'I', '1', 'R', 'PAK', 200, ('MIG21', 'ISRASEL', 99999), 'MIG21', 'ISRASEL', 'RAM', 100, 'M', 'G', 'S', 'A', 'E'}\n",
      "*********************************************\n",
      "Adding the dict to the exiting set\n",
      "{0, 1, 2, 3, 'L', 'IAF', 'ram', 99999, 'SHYAM', '2', 'I', '1', 'R', 'PAK', 200, ('MIG21', 'ISRASEL', 99999), 'MIG21', 'ISRASEL', 'RAM', 100, 'M', 'G', 'S', 'A', 'E'}\n",
      "*********************************************\n",
      "{0, 1, 2, 3, 'L', 'IAF', 'ram', 99999, 'SHYAM', '2', 'I', '1', 'R', 'PAK', 200, ('MIG21', 'ISRASEL', 99999), 'MIG21', 'ISRASEL', 'RAM', 100, 'M', 'G', 'S', 'A', 'E'}\n"
     ]
    }
   ],
   "source": [
    "#Using update() method\n",
    "#We can update the set with list\n",
    "s.update(['MIG21',\"ISRASEL\",99999])\n",
    "print(s)\n",
    "print(\"*\"*45)\n",
    "print(\"Adding the dict to the exiting set\")\n",
    "s.update({0:\"A\",1:\"B\",2:\"C\"})\n",
    "print(s)\n",
    "s.update(['MIG21',\"ISRASEL\",99999])\n",
    "print(\"*\"*45)\n",
    "print(s)\n"
   ]
  },
  {
   "cell_type": "code",
   "execution_count": 36,
   "metadata": {},
   "outputs": [
    {
     "name": "stdout",
     "output_type": "stream",
     "text": [
      "0\n",
      "\n",
      "1\n",
      "\n",
      "2\n",
      "\n",
      "3\n",
      "\n",
      "L\n",
      "\n",
      "IAF\n",
      "\n",
      "ram\n",
      "\n",
      "99999\n",
      "\n",
      "SHYAM\n",
      "\n",
      "2\n",
      "\n",
      "I\n",
      "\n",
      "1\n",
      "\n",
      "R\n",
      "\n",
      "PAK\n",
      "\n",
      "200\n",
      "\n",
      "('MIG21', 'ISRASEL', 99999)\n",
      "\n",
      "MIG21\n",
      "\n",
      "ISRASEL\n",
      "\n",
      "RAM\n",
      "\n",
      "100\n",
      "\n",
      "M\n",
      "\n",
      "G\n",
      "\n",
      "S\n",
      "\n",
      "A\n",
      "\n",
      "E\n",
      "\n",
      "*********************************************\n",
      " Checking the presence of element in set\n",
      "True\n"
     ]
    }
   ],
   "source": [
    "#Accessing a Set\n",
    "for i in s:\n",
    "    print(i,end=\"\\n\\n\")\n",
    "#Checking the presence of element in set\n",
    "print(\"*\"*45)\n",
    "print(\" Checking the presence of element in set\")\n",
    "print(\"ISRASEL\" in s)"
   ]
  },
  {
   "cell_type": "code",
   "execution_count": 47,
   "metadata": {
    "scrolled": true
   },
   "outputs": [
    {
     "name": "stdout",
     "output_type": "stream",
     "text": [
      "initial set\n",
      "*********************************************\n",
      "After removing\n",
      "{1, 2, 3, 'L', 'IAF', 'ram', 99999, '2', 'I', '1', 'R', 'PAK', 200, ('MIG21', 'ISRASEL', 99999), 'MIG21', 'ISRASEL', 'RAM', 'G', 'S', 'A', 'E'}\n"
     ]
    }
   ],
   "source": [
    "#Removing elements from the Set\n",
    "print(\"initial set\")\n",
    "s.remove(100)\n",
    "print(\"*\"*45)\n",
    "print(\"After removing\")\n",
    "print(s)\n",
    "\n"
   ]
  },
  {
   "cell_type": "code",
   "execution_count": 45,
   "metadata": {},
   "outputs": [
    {
     "name": "stdout",
     "output_type": "stream",
     "text": [
      "Discarding a element\n",
      "*********************************************\n",
      "{1, 2, 3, 'L', 'IAF', 'ram', 99999, '2', 'I', '1', 'R', 'PAK', 200, ('MIG21', 'ISRASEL', 99999), 'MIG21', 'ISRASEL', 'RAM', 100, 'G', 'S', 'A', 'E'}\n"
     ]
    }
   ],
   "source": [
    "#Discard will not raise any error if the element is not present in set\n",
    "#remove will throw an error if the element is not present inside the set\n",
    "s.discard(\"SHYAM\")\n",
    "\n",
    "print(\"Discarding a element\")\n",
    "print(\"*\"*45)\n",
    "print(s)"
   ]
  },
  {
   "cell_type": "code",
   "execution_count": 49,
   "metadata": {},
   "outputs": [
    {
     "name": "stdout",
     "output_type": "stream",
     "text": [
      "*********************************************\n",
      "{1, 2, 3, 'L', 'IAF', 'ram', 99999, '2', 'I', '1', 'R', 'PAK', 200, ('MIG21', 'ISRASEL', 99999), 'MIG21', 'ISRASEL', 'RAM', 'G', 'S', 'A', 'E'}\n"
     ]
    },
    {
     "data": {
      "text/plain": [
       "1"
      ]
     },
     "execution_count": 49,
     "metadata": {},
     "output_type": "execute_result"
    }
   ],
   "source": [
    "#Using pop() method\n",
    "#As its a unordered collection of data ,hence its not possible to do the pop by the index wise by default we can delete last element \n",
    "print(\"*\"*45)\n",
    "print(s)\n",
    "#POP will return the item which one is got deleted \n",
    "s.pop()\n"
   ]
  },
  {
   "cell_type": "raw",
   "metadata": {},
   "source": [
    "#Using clear() method\n",
    "#To remove all the elements from the set, clear() function is used.\n",
    "#Frozen sets in Python are immutable objects that only support methods and operators that produce a result without \n",
    "affecting the frozen set or sets to which they are applied. While elements of a set can be modified at any time,\n",
    "elements of the frozen set remain the same after creation.\n",
    "If no parameters are passed, it returns an empty frozenset\n",
    "\n",
    "\n",
    ">s_frozn=frozenset(s)\n",
    "\n",
    ">print(type(s_frozn))"
   ]
  },
  {
   "cell_type": "raw",
   "metadata": {},
   "source": [
    "NOTES ON SET:\n",
    ">add()\tAdds an element to a set\n",
    ">remove()\tRemoves an element from a set. If the element is not present in the set, raise a KeyError\n",
    ">clear()\tRemoves all elements form a set\n",
    ">copy()\tReturns a shallow copy of a set\n",
    ">pop()\tRemoves and returns an arbitrary set element. Raise KeyError if the set is empty\n",
    ">update()\tUpdates a set with the union of itself and others(tuple can be added no list)\n",
    ">discard()\tRemoves an element from set if it is a member. (Do nothing if the element is not in set)\n",
    ">intersection()\tReturns the intersection of two sets as a new set\n",
    ">isdisjoint() function in Python\n",
    "Two sets are said to be disjoint when their intersection is null. In simple words they do not have any common element in between them.\n"
   ]
  },
  {
   "cell_type": "code",
   "execution_count": 65,
   "metadata": {},
   "outputs": [
    {
     "data": {
      "text/plain": [
       "{1, 2, 3, 4, 5, 6, 7, 8, 9, 10}"
      ]
     },
     "execution_count": 65,
     "metadata": {},
     "output_type": "execute_result"
    }
   ],
   "source": [
    "#Union() function in Python\n",
    "#Union of two given sets is the smallest set which contains all the elements of both the sets. \n",
    "#Union of two given sets A and B is a set which consists of all the elements of A and all the elements of B such that no \n",
    "#element is repeated.\n",
    "k={1,2,3}\n",
    "l={3,4,5,6}\n",
    "z={7,8,9,10}\n",
    "k.union(l,z)\n",
    "#Python Set | difference_update()\n",
    "#difference_update()\tRemoves all elements of another set from this set\n",
    "#"
   ]
  },
  {
   "cell_type": "code",
   "execution_count": 74,
   "metadata": {},
   "outputs": [
    {
     "name": "stdout",
     "output_type": "stream",
     "text": [
      "A-B#Whatever the values are not present in B BUT AVAL IN A that will be A-B\n",
      "{10, 20}\n",
      "Whatever the values are not present in A BUT AVAL IN B that will be B-A\n",
      "{100, 40, 80, 60, 30}\n"
     ]
    }
   ],
   "source": [
    "# Driver Code \n",
    "A = {10, 20, 30, 40, 80} \n",
    "B = {100, 30, 80, 40, 60} \n",
    "  \n",
    "# Modifies A and returns None \n",
    "A.difference_update(B) #=A-B#Whatever the values are not present in B BUT AVAL IN A that will be A-B\n",
    "print(\"A-B#Whatever the values are not present in B BUT AVAL IN A that will be A-B\")\n",
    "print(A)\n",
    "#B-A#Whatever the values are not present in A BUT AVAL IN B that will be B-A\n",
    "B.difference_update(A)\n",
    "print(\"Whatever the values are not present in A BUT AVAL IN B that will be B-A\")\n",
    "print(B)"
   ]
  },
  {
   "cell_type": "code",
   "execution_count": null,
   "metadata": {},
   "outputs": [],
   "source": []
  }
 ],
 "metadata": {
  "kernelspec": {
   "display_name": "Python 3",
   "language": "python",
   "name": "python3"
  },
  "language_info": {
   "codemirror_mode": {
    "name": "ipython",
    "version": 3
   },
   "file_extension": ".py",
   "mimetype": "text/x-python",
   "name": "python",
   "nbconvert_exporter": "python",
   "pygments_lexer": "ipython3",
   "version": "3.7.6"
  }
 },
 "nbformat": 4,
 "nbformat_minor": 4
}
